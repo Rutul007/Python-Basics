{
 "cells": [
  {
   "cell_type": "markdown",
   "id": "44c5efee-8dbf-4248-9b16-8034d2ceffd0",
   "metadata": {
    "tags": []
   },
   "source": [
    "#### Q1. WAP to acceptpercentage from user and display the grade acording"
   ]
  },
  {
   "cell_type": "code",
   "execution_count": 2,
   "id": "72bcd28e-8837-4a99-80f9-1c7f59cc4334",
   "metadata": {},
   "outputs": [
    {
     "name": "stdout",
     "output_type": "stream",
     "text": [
      "Enter your percentage 115\n",
      "Enter your valid percentage\n"
     ]
    }
   ],
   "source": [
    "marks = float(input(\"Enter your percentage\"))\n",
    "\n",
    "if marks >= 0 and marks <= 100:\n",
    "    if marks > 90 :\n",
    "        print(\"Your grade is A\")\n",
    "    elif marks > 80 and marks <= 90:\n",
    "        print(\"Your grade is B\")\n",
    "    elif marks >60 and marks <=80:\n",
    "        print(\"Your grade is C\")\n",
    "    else :\n",
    "        print(\"Your grade is D\")\n",
    "else:\n",
    "    print(\"Not valid percentage\")"
   ]
  },
  {
   "cell_type": "markdown",
   "id": "bb7aa76c-119b-414e-bdc8-85686317b4ff",
   "metadata": {},
   "source": [
    "#### Q2. WAP to accept cost price of bike and display the road tax to be paid according the data"
   ]
  },
  {
   "cell_type": "code",
   "execution_count": 4,
   "id": "8706ad4c-a433-406d-a8d5-4419be1aba08",
   "metadata": {},
   "outputs": [
    {
     "name": "stdout",
     "output_type": "stream",
     "text": [
      "Enter the cost price of bike 100000\n",
      "Tax is 10%\n"
     ]
    }
   ],
   "source": [
    "price = float(input(\"Enter the cost price of bike\"))\n",
    "\n",
    "if price > 50000:\n",
    "    if price <= 100000:\n",
    "        print(\"Tax is 10%\")\n",
    "    else:\n",
    "        print(\"Tax is 15%\")\n",
    "else:\n",
    "    print(\"Tax is 5%\")"
   ]
  },
  {
   "cell_type": "markdown",
   "id": "265afe9f-44cd-412b-ab45-986440bdc3ca",
   "metadata": {},
   "source": [
    "#### Q3. Accept any city from the user and display monuments of that city."
   ]
  },
  {
   "cell_type": "code",
   "execution_count": 5,
   "id": "10b2e207-f0b5-46be-9664-fd41358a4a70",
   "metadata": {},
   "outputs": [
    {
     "name": "stdout",
     "output_type": "stream",
     "text": [
      "Enter the city name jaipur\n",
      "Jal Mahal\n"
     ]
    }
   ],
   "source": [
    "city = input(\"Enter the city name\")\n",
    "\n",
    "if city == 'Delhi' or city == 'delhi':\n",
    "    print(\"Red Fort\")\n",
    "elif city == 'Agra' or city == 'agra':\n",
    "    print(\"Taj Mahal\")\n",
    "elif city == 'Jaipur' or city == 'jaipur':\n",
    "    print(\"Jal Mahal\")"
   ]
  },
  {
   "cell_type": "markdown",
   "id": "5e5ae6e3-37d0-438e-b491-0aa1269b4f24",
   "metadata": {},
   "source": [
    "#### Q4. Check how many times given number can divided by 3 befor it is less than or equal to 10"
   ]
  },
  {
   "cell_type": "code",
   "execution_count": 1,
   "id": "64a9d969-7a54-43d4-bb5c-f15c2bafc72e",
   "metadata": {},
   "outputs": [
    {
     "name": "stdout",
     "output_type": "stream",
     "text": [
      "1\n"
     ]
    }
   ],
   "source": [
    "Num = int(input(\"Enter your number\"))\n",
    "count = 0\n",
    "while (Num/3) > 10:\n",
    "    Num /= 3\n",
    "    count = count+1\n",
    "\n",
    "print(count)"
   ]
  },
  {
   "cell_type": "markdown",
   "id": "9914cb4c-da5d-44e9-b172-30db18030cb8",
   "metadata": {},
   "source": [
    "#### Q5. Why and when to use while loop\n",
    "While loop is used to execute given block of code repeatadly until given condition is satisfied.\n",
    "loop ends when condition becomes false"
   ]
  },
  {
   "cell_type": "code",
   "execution_count": 1,
   "id": "5d39c528-f72a-4d81-92c6-f67e7ab38b64",
   "metadata": {},
   "outputs": [
    {
     "name": "stdout",
     "output_type": "stream",
     "text": [
      "I love data-science\n",
      "I love data-science\n",
      "I love data-science\n",
      "I love data-science\n",
      "I love data-science\n"
     ]
    }
   ],
   "source": [
    "# While loop example\n",
    "cnt = 0\n",
    "while(cnt < 5):\n",
    "    cnt += 1\n",
    "    print(\"I love data-science\")"
   ]
  },
  {
   "cell_type": "markdown",
   "id": "e0e392d1-6aaf-43dc-aa40-416305ff4773",
   "metadata": {},
   "source": [
    "#### Q6. Nested while loop to print pattern"
   ]
  },
  {
   "cell_type": "code",
   "execution_count": 26,
   "id": "5485d419-703a-4e0f-9b2e-b5244d39fcf4",
   "metadata": {},
   "outputs": [
    {
     "name": "stdout",
     "output_type": "stream",
     "text": [
      "\n",
      "*\n",
      "**\n",
      "***\n",
      "****\n",
      "*****\n",
      "******\n",
      "*******\n",
      "********\n"
     ]
    }
   ],
   "source": [
    "i = 0\n",
    "while (i<9):\n",
    "    j = 0\n",
    "    while(j<i):\n",
    "        print(\"*\", end=\"\")\n",
    "        j = j + 1\n",
    "    print()\n",
    "    i = i +1\n"
   ]
  },
  {
   "cell_type": "markdown",
   "id": "e68237df-a35a-4f14-92e0-97c7e0ea5ba0",
   "metadata": {},
   "source": [
    "#### Q7. Reverse a while loop to print numbers from 10 to 1."
   ]
  },
  {
   "cell_type": "code",
   "execution_count": 3,
   "id": "0818ad1f-b693-4e9b-b541-00d89c2a256b",
   "metadata": {},
   "outputs": [
    {
     "name": "stdout",
     "output_type": "stream",
     "text": [
      "10\n",
      "9\n",
      "8\n",
      "7\n",
      "6\n",
      "5\n",
      "4\n",
      "3\n",
      "2\n",
      "1\n"
     ]
    }
   ],
   "source": [
    "N = 10\n",
    "while(N>0) :\n",
    "    print(N)\n",
    "    N -= 1"
   ]
  },
  {
   "cell_type": "markdown",
   "id": "7aaa7774-9199-4cab-a0c0-c20d3d235f98",
   "metadata": {},
   "source": [
    "#### Q8. Reverse a while loop to print numbers from 10 to 1."
   ]
  },
  {
   "cell_type": "code",
   "execution_count": 5,
   "id": "e5b73cee-d122-4488-a25c-1665fc30851f",
   "metadata": {},
   "outputs": [
    {
     "name": "stdout",
     "output_type": "stream",
     "text": [
      "10\n",
      "9\n",
      "8\n",
      "7\n",
      "6\n",
      "5\n",
      "4\n",
      "3\n",
      "2\n",
      "1\n"
     ]
    }
   ],
   "source": [
    "M = 10\n",
    "while(M>0):\n",
    "    print (M)\n",
    "    M -= 1"
   ]
  },
  {
   "cell_type": "code",
   "execution_count": null,
   "id": "00aae0c4-f7ff-418e-b6b3-37925c2e5887",
   "metadata": {},
   "outputs": [],
   "source": []
  }
 ],
 "metadata": {
  "kernelspec": {
   "display_name": "Python 3 (ipykernel)",
   "language": "python",
   "name": "python3"
  },
  "language_info": {
   "codemirror_mode": {
    "name": "ipython",
    "version": 3
   },
   "file_extension": ".py",
   "mimetype": "text/x-python",
   "name": "python",
   "nbconvert_exporter": "python",
   "pygments_lexer": "ipython3",
   "version": "3.10.6"
  },
  "vscode": {
   "interpreter": {
    "hash": "14d3a3a21a740e4de881a0c7317a1b466ef7108acb6ef994efe0d4bbb0a05b1f"
   }
  }
 },
 "nbformat": 4,
 "nbformat_minor": 5
}
