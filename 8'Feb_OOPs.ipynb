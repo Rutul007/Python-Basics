{
 "cells": [
  {
   "cell_type": "markdown",
   "id": "221983e3-79d0-4b05-9a47-cbdbc8141d67",
   "metadata": {},
   "source": [
    "### Q1. What is Abstraction in OOps? Explain with an example."
   ]
  },
  {
   "cell_type": "raw",
   "id": "e1c19794-44ff-45cc-9a60-b85ccc64be01",
   "metadata": {},
   "source": [
    "Abstraction is used to hide the internal functionality of the function from the users. The users only interact with the basic implementation of the function, but inner working is hidden. User is familiar with that \"what function does\" but they don't know \"how it does.\"\n",
    "\n",
    "In Python, abstraction can be achieved by using abstract classes and interfaces."
   ]
  },
  {
   "cell_type": "code",
   "execution_count": 15,
   "id": "4881c03a-2293-4f05-a27a-c5b60ba18be9",
   "metadata": {},
   "outputs": [],
   "source": [
    "from abc import ABC, abstractmethod\n",
    "\n",
    "class shape(ABC):\n",
    "    \n",
    "    @abstractmethod\n",
    "    def printarea(self):\n",
    "        pass\n",
    "\n",
    "class circle(shape) :\n",
    "    \n",
    "    def __init__(self):\n",
    "        self.radius = 5\n",
    "        self.PI = 3.14\n",
    "        \n",
    "    def printarea(self):\n",
    "        print(self.PI*self.radius*self.radius)\n",
    "\n",
    "class square(shape):\n",
    "    def __init__ (self):\n",
    "        self.length = 6\n",
    "        self.breadth= 7\n",
    "    \n",
    "    def printarea(self):\n",
    "        print(self.breadth*self.length)"
   ]
  },
  {
   "cell_type": "code",
   "execution_count": 16,
   "id": "875001ab-781e-4add-acba-56f46198db44",
   "metadata": {},
   "outputs": [
    {
     "name": "stdout",
     "output_type": "stream",
     "text": [
      "78.5\n"
     ]
    }
   ],
   "source": [
    "c = circle()\n",
    "c.printarea()"
   ]
  },
  {
   "cell_type": "code",
   "execution_count": 19,
   "id": "cd8c62e1-a4e2-473a-9f55-b533bc9ecdb8",
   "metadata": {},
   "outputs": [
    {
     "name": "stdout",
     "output_type": "stream",
     "text": [
      "42\n"
     ]
    }
   ],
   "source": [
    "s = square()\n",
    "s.printarea()"
   ]
  },
  {
   "cell_type": "markdown",
   "id": "37b5c17f-90a4-4cd0-b132-9a083972c0be",
   "metadata": {},
   "source": [
    "### Q2.Differentiate between Abstraction and Encapsulation. Explain with an example."
   ]
  },
  {
   "cell_type": "markdown",
   "id": "fdc1da9d-d6f3-4744-ba16-6078062f6675",
   "metadata": {},
   "source": [
    "### Encapsulation"
   ]
  },
  {
   "cell_type": "code",
   "execution_count": 22,
   "id": "1855da35-0a34-435f-b975-5eb06a852a08",
   "metadata": {},
   "outputs": [],
   "source": [
    "class Btech :\n",
    "    \n",
    "    def __init__(self,sid,cpi):\n",
    "        self.s_id = sid\n",
    "        self.cpi = cpi\n",
    "        \n",
    "    def show_cpi(self):\n",
    "        print(self.cpi)\n",
    "    \n",
    "    def edit_cpi(self,new):\n",
    "        self.cpi = new if new > 0 else self.cpi\n",
    "        "
   ]
  },
  {
   "cell_type": "code",
   "execution_count": 26,
   "id": "900424a1-d669-4eda-a43e-2b8a442fb66d",
   "metadata": {},
   "outputs": [
    {
     "name": "stdout",
     "output_type": "stream",
     "text": [
      "5.6\n"
     ]
    }
   ],
   "source": [
    "Raj = Btech(2001654230,5.6)\n",
    "Raj.show_cpi()"
   ]
  },
  {
   "cell_type": "code",
   "execution_count": 28,
   "id": "f4e97d65-7d1b-44ab-b46d-f31f68b21611",
   "metadata": {},
   "outputs": [
    {
     "name": "stdout",
     "output_type": "stream",
     "text": [
      "5.6\n"
     ]
    }
   ],
   "source": [
    "Raj.edit_cpi(-9)\n",
    "Raj.show_cpi()"
   ]
  },
  {
   "cell_type": "markdown",
   "id": "81aa622e-47bd-4993-a0d7-d8b29f587c13",
   "metadata": {},
   "source": [
    "#### Abstraction"
   ]
  },
  {
   "cell_type": "code",
   "execution_count": 29,
   "id": "23dcb534-7cfa-4a0b-8093-6965e2c63c50",
   "metadata": {},
   "outputs": [],
   "source": [
    "class bank :\n",
    "    \n",
    "    def __init__(self,amount):\n",
    "        self.__amount = amount\n",
    "    \n",
    "    def deposite(self,value):\n",
    "        self.__amount = self.__amount + value if value > 0 else self.__amount \n",
    "    \n",
    "    def withdrow(self,value):\n",
    "        if value < self.amount:\n",
    "            self.__amount = self.__amount - value\n",
    "        else:\n",
    "            print(\"you have not enough balance to withdraw\")\n",
    "    \n",
    "    def showbal(self):\n",
    "        print(self.__amount)"
   ]
  },
  {
   "cell_type": "code",
   "execution_count": 30,
   "id": "7ad9098d-b650-467a-b654-b1105a02833c",
   "metadata": {},
   "outputs": [],
   "source": [
    "person1 = bank(500)"
   ]
  },
  {
   "cell_type": "code",
   "execution_count": 31,
   "id": "0ce1b5a2-94c5-42f3-9f22-59d3b4603c9d",
   "metadata": {},
   "outputs": [
    {
     "ename": "AttributeError",
     "evalue": "'bank' object has no attribute '__amount'",
     "output_type": "error",
     "traceback": [
      "\u001b[0;31m---------------------------------------------------------------------------\u001b[0m",
      "\u001b[0;31mAttributeError\u001b[0m                            Traceback (most recent call last)",
      "Cell \u001b[0;32mIn[31], line 1\u001b[0m\n\u001b[0;32m----> 1\u001b[0m \u001b[43mperson1\u001b[49m\u001b[38;5;241;43m.\u001b[39;49m\u001b[43m__amount\u001b[49m\n",
      "\u001b[0;31mAttributeError\u001b[0m: 'bank' object has no attribute '__amount'"
     ]
    }
   ],
   "source": [
    "person1.__amount # not sshow to user directly"
   ]
  },
  {
   "cell_type": "code",
   "execution_count": 32,
   "id": "8dcb4e6b-98ae-410f-bab8-630dbbec6c65",
   "metadata": {},
   "outputs": [
    {
     "name": "stdout",
     "output_type": "stream",
     "text": [
      "500\n"
     ]
    }
   ],
   "source": [
    "person1.showbal()"
   ]
  },
  {
   "cell_type": "markdown",
   "id": "4a72d9dc-eae9-4629-8f93-9359cb9856de",
   "metadata": {},
   "source": [
    "### Q3. What is ABC module in python? and why its use?"
   ]
  },
  {
   "cell_type": "raw",
   "id": "9356c22e-49f5-4802-839b-bbbd1bc3623c",
   "metadata": {},
   "source": [
    "This module provides the infrastructure for defining abstract base classes (ABCs) in python\n",
    "\n",
    "For larger projects, it is impossible to remember the class details, and also the reusability of code can increase the bug. Therefore, it plays a crucial role in our projects.\n",
    "\n",
    "By default, Python does not provide abstract classes. The ‘abc’ module in the Python library provides the infrastructure for defining custom abstract base classes.\n",
    "\n",
    "Abstract class cannot be instantiated in python. An Abstract method can be call by its subclasses."
   ]
  },
  {
   "cell_type": "markdown",
   "id": "1df038ab-aabe-42c8-a69c-9341c1fa0e85",
   "metadata": {},
   "source": [
    "### Q4. How can we achieve data abstraction?"
   ]
  },
  {
   "cell_type": "markdown",
   "id": "dc3fb730-eba7-4c1c-a30a-fc41a20cdb99",
   "metadata": {},
   "source": [
    "#### We can achieve data abstraction by using abstract class, abstract methods, etc.\n",
    "#### you can see an example in question no. 1"
   ]
  },
  {
   "cell_type": "markdown",
   "id": "4b435d9a-5f12-426b-b90e-232698c639b0",
   "metadata": {},
   "source": [
    "### Q5. Can we create an instance of an abstract class?"
   ]
  },
  {
   "cell_type": "markdown",
   "id": "f15d7614-b2b4-427f-96d5-539b4eec82bc",
   "metadata": {},
   "source": [
    "##### As I mention in question.3 \"Abstract class cannot be instantiated in python. An Abstract method can be call by its subclasses.\""
   ]
  }
 ],
 "metadata": {
  "kernelspec": {
   "display_name": "Python 3 (ipykernel)",
   "language": "python",
   "name": "python3"
  },
  "language_info": {
   "codemirror_mode": {
    "name": "ipython",
    "version": 3
   },
   "file_extension": ".py",
   "mimetype": "text/x-python",
   "name": "python",
   "nbconvert_exporter": "python",
   "pygments_lexer": "ipython3",
   "version": "3.10.8"
  }
 },
 "nbformat": 4,
 "nbformat_minor": 5
}
