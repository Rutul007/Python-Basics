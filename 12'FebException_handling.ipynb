{
 "cells": [
  {
   "cell_type": "markdown",
   "id": "b4ff0700-ad37-4850-8faf-a86cda2caeb5",
   "metadata": {},
   "source": [
    "### Q1. What is Exception in python? Write the difference between exception and python?"
   ]
  },
  {
   "cell_type": "raw",
   "id": "6eb459bf-9a4b-4703-8cb1-4eb456e2f09b",
   "metadata": {},
   "source": [
    "-->Exceptions are raised when some internal events occur which changes the normal flow of the program. \n",
    "-->Errors are the problems in a program due to which the program will stop the execution\n",
    "\n",
    "Syntax Error: As the name suggests this error is caused by the wrong syntax in the code. It leads to the termination of the program. \n",
    "\n",
    "Exceptions: Exceptions are raised when the program is syntactically correct, but the code resulted in an error. \n",
    "This error does not stop the execution of the program, however, it changes the normal flow of the program."
   ]
  },
  {
   "cell_type": "raw",
   "id": "633b7e27-35ba-4c29-95a8-b74383345a46",
   "metadata": {},
   "source": [
    "exception example"
   ]
  },
  {
   "cell_type": "code",
   "execution_count": 1,
   "id": "a7c6f4ca-259e-431e-9624-736bef6f0dce",
   "metadata": {},
   "outputs": [
    {
     "name": "stdin",
     "output_type": "stream",
     "text": [
      "enter the number 56\n"
     ]
    },
    {
     "ename": "ZeroDivisionError",
     "evalue": "division by zero",
     "output_type": "error",
     "traceback": [
      "\u001b[0;31m---------------------------------------------------------------------------\u001b[0m",
      "\u001b[0;31mZeroDivisionError\u001b[0m                         Traceback (most recent call last)",
      "Cell \u001b[0;32mIn[1], line 3\u001b[0m\n\u001b[1;32m      1\u001b[0m n \u001b[38;5;241m=\u001b[39m \u001b[38;5;28mint\u001b[39m(\u001b[38;5;28minput\u001b[39m(\u001b[38;5;124m\"\u001b[39m\u001b[38;5;124menter the number\u001b[39m\u001b[38;5;124m\"\u001b[39m))\n\u001b[0;32m----> 3\u001b[0m n \u001b[38;5;241m=\u001b[39m \u001b[43mn\u001b[49m\u001b[43m \u001b[49m\u001b[38;5;241;43m/\u001b[39;49m\u001b[43m \u001b[49m\u001b[38;5;241;43m0\u001b[39;49m\n",
      "\u001b[0;31mZeroDivisionError\u001b[0m: division by zero"
     ]
    }
   ],
   "source": [
    "n = int(input(\"enter the number\"))\n",
    "#division with zero\n",
    "n = n / 0"
   ]
  },
  {
   "cell_type": "markdown",
   "id": "2db615cc-8bfd-4727-8dfc-fc5f0e5da2dd",
   "metadata": {},
   "source": [
    "### 2. What happened when exception is not handeled ?"
   ]
  },
  {
   "cell_type": "raw",
   "id": "5ec584a0-0986-447f-a80a-037d85992125",
   "metadata": {},
   "source": [
    "When exception occurs python stops the current process.\n",
    "exception is handeled by passing it trough calling process\n",
    "\n",
    "If an exception occurs during execution of the try clause, the exception may be handled by an except clause. \n",
    "If the exception is not handled by an except clause, the exception is re-raised after the finally clause has been executed."
   ]
  },
  {
   "cell_type": "markdown",
   "id": "bc6e07bf-e40b-466c-8987-07ae8a5bb145",
   "metadata": {},
   "source": [
    "### 3. Which python statements are used to catch and handle the exceptions?"
   ]
  },
  {
   "cell_type": "raw",
   "id": "fcedb8e2-896a-4ca2-87c5-3cc84ed6b41a",
   "metadata": {},
   "source": [
    "The try and except block is used to catch and handle the exception\n",
    "Python executes code following the try statement as a “normal” part of the program.\n",
    "The code that follows the except statement is the program’s response to any exceptions in the preceding try clause."
   ]
  },
  {
   "cell_type": "code",
   "execution_count": 2,
   "id": "eec970ab-b48d-4190-8b4d-0bf27e509c6e",
   "metadata": {},
   "outputs": [
    {
     "name": "stdout",
     "output_type": "stream",
     "text": [
      "This is my except block [Errno 2] No such file or directory: 'nofile.txt'\n"
     ]
    }
   ],
   "source": [
    "try :\n",
    "    f = open(\"nofile.txt\",'r')\n",
    "\n",
    "except Exception as e:\n",
    "    print(\"This is my except block\",e)"
   ]
  },
  {
   "cell_type": "markdown",
   "id": "ff046980-d920-4146-a69a-03dc20ce572b",
   "metadata": {},
   "source": [
    "### 4. try and else , finally, raise"
   ]
  },
  {
   "cell_type": "code",
   "execution_count": 4,
   "id": "6493d726-a4f4-4253-870f-382e2b212c0f",
   "metadata": {},
   "outputs": [
    {
     "name": "stdout",
     "output_type": "stream",
     "text": [
      "-11.0\n",
      "there is error in execution\n"
     ]
    }
   ],
   "source": [
    "def AbyB(a , b):\n",
    "    try :\n",
    "        c = (( a + b )/(a - b))\n",
    "    except :\n",
    "        print(\"there is error in execution\")\n",
    "    else:\n",
    "        print(c)\n",
    "\n",
    "AbyB(5,6)\n",
    "AbyB(6,6)"
   ]
  },
  {
   "cell_type": "code",
   "execution_count": 5,
   "id": "e064a883-4d14-4877-812a-d7cf54661d96",
   "metadata": {},
   "outputs": [],
   "source": [
    "def AbyBdiv(a , b):\n",
    "    try :\n",
    "        c = (( a + b )/(a - b))\n",
    "    except :\n",
    "        print(\"there is error in execution\")\n",
    "    else:\n",
    "        print(c)\n",
    "    finally:\n",
    "        print(\"this is always executed\")"
   ]
  },
  {
   "cell_type": "code",
   "execution_count": 7,
   "id": "fda60a82-35f6-4a74-b5c0-c62df945c4dd",
   "metadata": {},
   "outputs": [
    {
     "name": "stdout",
     "output_type": "stream",
     "text": [
      "there is error in execution\n",
      "this is always executed\n"
     ]
    }
   ],
   "source": [
    "AbyBdiv(10,10)"
   ]
  },
  {
   "cell_type": "code",
   "execution_count": 10,
   "id": "239b8633-979a-492b-8551-1efe477c89a8",
   "metadata": {},
   "outputs": [
    {
     "name": "stdout",
     "output_type": "stream",
     "text": [
      "An exception\n"
     ]
    },
    {
     "ename": "NameError",
     "evalue": "Hi there",
     "output_type": "error",
     "traceback": [
      "\u001b[0;31m---------------------------------------------------------------------------\u001b[0m",
      "\u001b[0;31mNameError\u001b[0m                                 Traceback (most recent call last)",
      "Cell \u001b[0;32mIn[10], line 2\u001b[0m\n\u001b[1;32m      1\u001b[0m \u001b[38;5;28;01mtry\u001b[39;00m: \n\u001b[0;32m----> 2\u001b[0m     \u001b[38;5;28;01mraise\u001b[39;00m \u001b[38;5;167;01mNameError\u001b[39;00m(\u001b[38;5;124m\"\u001b[39m\u001b[38;5;124mHi there\u001b[39m\u001b[38;5;124m\"\u001b[39m)  \u001b[38;5;66;03m# Raise Error\u001b[39;00m\n\u001b[1;32m      3\u001b[0m \u001b[38;5;28;01mexcept\u001b[39;00m \u001b[38;5;167;01mNameError\u001b[39;00m:\n\u001b[1;32m      4\u001b[0m     \u001b[38;5;28mprint\u001b[39m (\u001b[38;5;124m\"\u001b[39m\u001b[38;5;124mAn exception\u001b[39m\u001b[38;5;124m\"\u001b[39m)\n",
      "\u001b[0;31mNameError\u001b[0m: Hi there"
     ]
    }
   ],
   "source": [
    "try: \n",
    "    raise NameError(\"Hi there\")  # Raise Error\n",
    "except NameError:\n",
    "    print (\"An exception\")\n",
    "    raise"
   ]
  },
  {
   "cell_type": "markdown",
   "id": "531d88b4-6a94-423e-8c2f-6a4cb4a26d93",
   "metadata": {},
   "source": [
    "### 5. Create a custom exception class. use this class to handle exception."
   ]
  },
  {
   "cell_type": "code",
   "execution_count": 11,
   "id": "1dee52b9-4456-424c-818f-cef5067c18a2",
   "metadata": {},
   "outputs": [],
   "source": [
    "class validateage(Exception):\n",
    "    def __init__(self,msg):\n",
    "        self.msg = msg"
   ]
  },
  {
   "cell_type": "code",
   "execution_count": 12,
   "id": "8f5c7149-ec17-4284-adc3-bbcf5f939b9a",
   "metadata": {},
   "outputs": [],
   "source": [
    "def valage(age):\n",
    "    if age > 50 :\n",
    "        raise validateage(\"Your age is high to participate in yuva shakti yojna\")\n",
    "    if age < 18 :\n",
    "        raise validateage(\"Your age is low to participate in yuva shakti yojna\")\n",
    "    else :\n",
    "        print(\"Congratulation! you are participeted in yuva shakti yojna\")"
   ]
  },
  {
   "cell_type": "code",
   "execution_count": null,
   "id": "e4619a3e-6d9f-4630-bcac-2a44b336aa23",
   "metadata": {},
   "outputs": [],
   "source": [
    "n = int(input(\"enter the your age to check you\"))"
   ]
  }
 ],
 "metadata": {
  "kernelspec": {
   "display_name": "Python 3 (ipykernel)",
   "language": "python",
   "name": "python3"
  },
  "language_info": {
   "codemirror_mode": {
    "name": "ipython",
    "version": 3
   },
   "file_extension": ".py",
   "mimetype": "text/x-python",
   "name": "python",
   "nbconvert_exporter": "python",
   "pygments_lexer": "ipython3",
   "version": "3.10.8"
  }
 },
 "nbformat": 4,
 "nbformat_minor": 5
}
