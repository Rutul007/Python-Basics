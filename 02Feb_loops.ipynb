{
 "cells": [
  {
   "cell_type": "markdown",
   "id": "fc4344b0-446f-4cdd-a518-134076ec0fc4",
   "metadata": {},
   "source": [
    "#### Q1. Explain with an example each when to use a for loop and a while loop."
   ]
  },
  {
   "cell_type": "code",
   "execution_count": 1,
   "id": "1203cf02-6f25-443a-a138-cd45bdd0782c",
   "metadata": {},
   "outputs": [
    {
     "name": "stdout",
     "output_type": "stream",
     "text": [
      "0\n",
      "1\n",
      "2\n",
      "3\n",
      "4\n",
      "5\n",
      "6\n",
      "7\n",
      "8\n",
      "9\n"
     ]
    }
   ],
   "source": [
    "# -> The 'for' loop used only when we already knew the number of iterations.\n",
    "\n",
    "for i in range(10):\n",
    "    print(i)"
   ]
  },
  {
   "cell_type": "code",
   "execution_count": 2,
   "id": "d68b0e87-ebd3-4f82-bd37-0223041aafb3",
   "metadata": {},
   "outputs": [
    {
     "name": "stdout",
     "output_type": "stream",
     "text": [
      "100\n",
      "99\n",
      "98\n",
      "97\n"
     ]
    }
   ],
   "source": [
    "# ->The 'while' loop used only when the number of iteration are not exactly known.\n",
    "n = 100\n",
    "while n%6 != 0:\n",
    "    print(n)\n",
    "    n = n-1"
   ]
  },
  {
   "cell_type": "markdown",
   "id": "9689b5c8-d583-41c5-b28b-16e46ad64e79",
   "metadata": {},
   "source": [
    "#### Q2. Write a python program to print the sum and product of the first 10 natural numbers using for and while loop.\n"
   ]
  },
  {
   "cell_type": "code",
   "execution_count": 3,
   "id": "f9ffd095-0af8-470d-8bcb-c30ce372c718",
   "metadata": {},
   "outputs": [
    {
     "name": "stdout",
     "output_type": "stream",
     "text": [
      "sum of first 10 number is 55\n",
      "product of first 10 number is 3628800\n"
     ]
    }
   ],
   "source": [
    "# WAP to print sum and product of first n natural numbers\n",
    "n = 10\n",
    "\n",
    "sum = 0\n",
    "product = 1\n",
    "count = 1\n",
    "\n",
    "while count <= n:\n",
    "    sum = sum + count\n",
    "    product = product * count\n",
    "    count += 1\n",
    "print(\"sum of first 10 number is\",sum)\n",
    "print(\"product of first 10 number is\",product)"
   ]
  },
  {
   "cell_type": "markdown",
   "id": "766ebfb3-458f-4d31-9208-76116599dbf8",
   "metadata": {},
   "source": [
    "#### Q3. Create a python program to compute the electricity bill for a household."
   ]
  },
  {
   "cell_type": "code",
   "execution_count": 4,
   "id": "62f9b502-b57c-4115-8124-6957a8747483",
   "metadata": {},
   "outputs": [
    {
     "name": "stdin",
     "output_type": "stream",
     "text": [
      "Enter unit of electricity of this year 310\n"
     ]
    },
    {
     "name": "stdout",
     "output_type": "stream",
     "text": [
      "2250.0\n"
     ]
    }
   ],
   "source": [
    "# The per-unit charges in rupees are as follows: For the first 100 units, the user will be charged Rs. 4.5 per\n",
    "# unit, for the next 100 units, the user will be charged Rs. 6 per unit, and for the next 100 units, the user will\n",
    "# be charged Rs. 10 per unit, After 300 units and above the user will be charged Rs. 20 per unit.\n",
    "# You are required to take the units of electricity consumed in a month from the user as input.\n",
    "# Your program must pass this test case: when the unit of electricity consumed by the user in a month is\n",
    "# 310, the total electricity bill should be 2250.\n",
    "\n",
    "unit = int(input(\"Enter unit of electricity of this year\"))\n",
    "bill = 0\n",
    "while unit != 0 :\n",
    "    if unit > 300:\n",
    "        bill = bill + 20\n",
    "    elif unit > 200:\n",
    "        bill = bill + 10\n",
    "    elif unit > 100:\n",
    "        bill = bill + 6\n",
    "    else:\n",
    "        bill = bill + 4.5\n",
    "    unit -= 1\n",
    "print(bill)"
   ]
  },
  {
   "cell_type": "markdown",
   "id": "31bbc63a-0735-4251-9cad-6318cb781669",
   "metadata": {},
   "source": [
    "#### Q4. Create a list of numbers from 1 to 100. Use for loop and while loop to calculate the cube of each number and if the cube of that number is divisible by 4 or 5 then append that number in a list and print that list."
   ]
  },
  {
   "cell_type": "code",
   "execution_count": 6,
   "id": "f0fc6ca3-6d1b-4d22-bcc6-f483c64a0ee8",
   "metadata": {},
   "outputs": [
    {
     "name": "stdout",
     "output_type": "stream",
     "text": [
      "[2, 4, 5, 6, 8, 10, 12, 14, 15, 16, 18, 20, 22, 24, 25, 26, 28, 30, 32, 34, 35, 36, 38, 40, 42, 44, 45, 46, 48, 50, 52, 54, 55, 56, 58, 60, 62, 64, 65, 66, 68, 70, 72, 74, 75, 76, 78, 80, 82, 84, 85, 86, 88, 90, 92, 94, 95, 96, 98, 100]\n"
     ]
    }
   ],
   "source": [
    "l = [i for i in range(1,101)  if (i**3) % 4 == 0 or (i**3) % 5 == 0]\n",
    "print(l)"
   ]
  },
  {
   "cell_type": "code",
   "execution_count": null,
   "id": "d16d969f-fa6d-48fe-9d8b-123e9551ce92",
   "metadata": {},
   "outputs": [],
   "source": []
  },
  {
   "cell_type": "code",
   "execution_count": null,
   "id": "3a1a546f-b077-47fa-9284-b0d42d0d1c84",
   "metadata": {},
   "outputs": [],
   "source": [
    "import math as mt\n",
    "def prime(n):\n",
    "    root = round(mt.sqrt(n))\n",
    "    for i in range(2,root+1):\n",
    "        if n%i == 0:\n",
    "            return False\n",
    "    return True\n",
    "\n",
    "def next(a):\n",
    "    \"\"\"Function for first a prime number\"\"\"\n",
    "    count = 1\n",
    "    count1 = 2\n",
    "    l1 = []\n",
    "    while count <= a:\n",
    "        if prime(count1):\n",
    "            l1.append(count1)\n",
    "            count += 1\n",
    "        count1 += 1\n",
    "    return l1\n",
    "\n",
    "l = next(5)\n",
    "print(l)"
   ]
  },
  {
   "cell_type": "markdown",
   "id": "c656ab18-87e1-4334-945e-eb7f8eba3510",
   "metadata": {},
   "source": [
    "#### Q5.Write a program to filter count vowels in the below-given string. string = \"I want to become a data scientist\""
   ]
  },
  {
   "cell_type": "code",
   "execution_count": 9,
   "id": "ef014ffc-52ee-423e-bc80-8af2e85cbed5",
   "metadata": {},
   "outputs": [
    {
     "name": "stdin",
     "output_type": "stream",
     "text": [
      "Enter your string: Hello friends\n"
     ]
    },
    {
     "name": "stdout",
     "output_type": "stream",
     "text": [
      "4\n"
     ]
    }
   ],
   "source": [
    "string = input(\"Enter your string:\")\n",
    "count = 0\n",
    "for i in string:\n",
    "    if i=='a' or i=='e' or i=='i' or i=='o' or i=='u' or i=='A' or i=='E' or i=='I' or i=='O' or i=='U':\n",
    "        count += 1\n",
    "\n",
    "print(count)"
   ]
  },
  {
   "cell_type": "code",
   "execution_count": null,
   "id": "96c904cd-d515-40c4-9a91-1ca9cf9c4279",
   "metadata": {},
   "outputs": [],
   "source": []
  }
 ],
 "metadata": {
  "kernelspec": {
   "display_name": "Python 3 (ipykernel)",
   "language": "python",
   "name": "python3"
  },
  "language_info": {
   "codemirror_mode": {
    "name": "ipython",
    "version": 3
   },
   "file_extension": ".py",
   "mimetype": "text/x-python",
   "name": "python",
   "nbconvert_exporter": "python",
   "pygments_lexer": "ipython3",
   "version": "3.10.8"
  }
 },
 "nbformat": 4,
 "nbformat_minor": 5
}
